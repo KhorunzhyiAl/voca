{
 "cells": [
  {
   "cell_type": "code",
   "execution_count": null,
   "metadata": {},
   "outputs": [],
   "source": [
    "import nltk"
   ]
  },
  {
   "cell_type": "code",
   "execution_count": null,
   "metadata": {},
   "outputs": [],
   "source": [
    "from nltk.corpus import wordnet as wn\n",
    "\n",
    "wn.synsets('dog')"
   ]
  },
  {
   "cell_type": "code",
   "execution_count": null,
   "metadata": {},
   "outputs": [],
   "source": [
    "import csv\n",
    "\n",
    "exclude_pos = {\n",
    "    'CC', 'CD', 'LS', 'NNP', 'RP', 'TO', \n",
    "    'VBD', 'NNS'\n",
    "}\n",
    "\n",
    "\n",
    "with open('data/input/ngram_freq_dict.csv') as input, open('data/output/word_freq.csv', 'w+') as output:\n",
    "    reader = csv.reader(input)\n",
    "    writer = csv.DictWriter(output, fieldnames=[\n",
    "        'word',\n",
    "        'pos',\n",
    "    ])\n",
    "    \n",
    "    for [word, _] in reader:\n",
    "        pos = nltk.pos_tag([word])[0][1]\n",
    "        \n",
    "        if pos in exclude_pos: continue\n",
    "\n",
    "        writer.writerow({\n",
    "            'word': word,\n",
    "            'pos': pos\n",
    "        })\n",
    "\n"
   ]
  },
  {
   "cell_type": "code",
   "execution_count": null,
   "metadata": {},
   "outputs": [],
   "source": [
    "stemmer = nltk.SnowballStemmer('english')\n",
    "stemmer.stem('stirring')"
   ]
  },
  {
   "cell_type": "code",
   "execution_count": null,
   "metadata": {},
   "outputs": [],
   "source": [
    "nltk.pos_tag(['dwell'])"
   ]
  }
 ],
 "metadata": {
  "kernelspec": {
   "display_name": "Python 3 (ipykernel)",
   "language": "python",
   "name": "python3"
  },
  "language_info": {
   "codemirror_mode": {
    "name": "ipython",
    "version": 3
   },
   "file_extension": ".py",
   "mimetype": "text/x-python",
   "name": "python",
   "nbconvert_exporter": "python",
   "pygments_lexer": "ipython3",
   "version": "3.10.7"
  },
  "vscode": {
   "interpreter": {
    "hash": "1ffcc0b1eb508d10e9b0fa7a85a601f9242cb72bc016c758b80fe3dc92a9ec7c"
   }
  }
 },
 "nbformat": 4,
 "nbformat_minor": 2
}
