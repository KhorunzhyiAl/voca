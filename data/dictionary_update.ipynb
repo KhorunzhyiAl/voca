{
 "cells": [
  {
   "cell_type": "code",
   "execution_count": null,
   "metadata": {},
   "outputs": [],
   "source": [
    "import nltk\n",
    "from nltk.corpus import wordnet as reader\n",
    "import nltk.corpus.reader.wordnet as wordnet\n",
    "import sqlite3 as sql"
   ]
  },
  {
   "cell_type": "code",
   "execution_count": null,
   "metadata": {},
   "outputs": [],
   "source": [
    "wn = wordnet.WordNetCorpusReader(reader.root, reader._omw_reader)"
   ]
  },
  {
   "cell_type": "code",
   "execution_count": null,
   "metadata": {},
   "outputs": [],
   "source": [
    "synsets = wn.synsets('word')\n",
    "\n",
    "synsets = sorted(synsets, key=lambda syn: sum(lem.count() for lem in syn.lemmas()))\n",
    "\n",
    "for syn in synsets:\n",
    "    print(syn.definition())"
   ]
  },
  {
   "cell_type": "code",
   "execution_count": null,
   "metadata": {},
   "outputs": [],
   "source": [
    "OLD_DICT = 'data/output/dictionary.sqlite'\n",
    "NEW_DICT = 'data/output/dictionary_1.sqlite'"
   ]
  },
  {
   "cell_type": "code",
   "execution_count": null,
   "metadata": {},
   "outputs": [],
   "source": [
    "with sql.connect(NEW_DICT) as conn, sql.connect(OLD_DICT) as old_conn:\n",
    "    conn.execute(\"\"\"\n",
    "        CREATE TABLE word (\n",
    "            wordId INTEGER NOT NULL PRIMARY KEY,\n",
    "            word TEXT UNIQUE NOT NULL\n",
    "        )\n",
    "    \"\"\")\n",
    "    conn.execute(\"\"\"\n",
    "        CREATE TABLE definition (\n",
    "            definitionId INTEGER NOT NULL PRIMARY KEY,\n",
    "            wordId INTEGER NOT NULL,\n",
    "            definition TEXT NOT NULL,\n",
    "            pos TEXT NOT NULL,\n",
    "            frequency INTEGER NOT NULL,\n",
    "            FOREIGN KEY(wordId) REFERENCES word(ROWID)\n",
    "        )\n",
    "    \"\"\")\n",
    "    conn.execute(\"\"\"\n",
    "        CREATE TABLE example (\n",
    "            exampleId INTEGER NOT NULL PRIMARY KEY,\n",
    "            example TEXT NOT NULL,\n",
    "            definitionId INTEGER NOT NULL,\n",
    "            FOREIGN KEY(definitionId) REFERENCES definition(ROWID)\n",
    "        )\n",
    "    \"\"\")\n",
    "\n",
    "    "
   ]
  },
  {
   "cell_type": "code",
   "execution_count": null,
   "metadata": {},
   "outputs": [],
   "source": [
    "def process_word(word: str):\n",
    "    return word.replace('_', ' ')"
   ]
  },
  {
   "cell_type": "code",
   "execution_count": null,
   "metadata": {},
   "outputs": [],
   "source": [
    "def calculate_frequency(syn):\n",
    "    count = 0\n",
    "    for lem in syn.lemmas():\n",
    "        count += lem.count()\n",
    "    return count"
   ]
  },
  {
   "cell_type": "code",
   "execution_count": null,
   "metadata": {},
   "outputs": [],
   "source": [
    "# move words from old to new\n",
    "with sql.connect(NEW_DICT) as conn, sql.connect(OLD_DICT) as old_conn:\n",
    "    old_words = old_conn.cursor()\n",
    "    old_words.execute(\"SELECT rowid, word FROM word\")\n",
    "\n",
    "    for i, row in enumerate(old_words):\n",
    "        wordId = row[0]\n",
    "        word = row[1]\n",
    "\n",
    "        conn.execute('''\n",
    "            INSERT INTO word(wordId, word) \n",
    "            VALUES (:wordId, :word)''',\n",
    "            {\n",
    "                'wordId': wordId,\n",
    "                'word': process_word(word),\n",
    "            }\n",
    "        )\n",
    "\n",
    "        print(f'{i}: {word}')\n",
    "\n",
    "        for syn in wn.synsets(word):\n",
    "            defCursor = conn.execute(\"\"\"\n",
    "                INSERT INTO definition (wordId, definition, pos, frequency)\n",
    "                VALUES (:wordId, :definition, :pos, :frequency)\n",
    "            \"\"\", {\n",
    "                'wordId': wordId,\n",
    "                'definition': syn.definition(),\n",
    "                'pos': syn.pos(),\n",
    "                'frequency': calculate_frequency(syn)\n",
    "            })\n",
    "            defId = defCursor.lastrowid\n",
    "\n",
    "            for ex in syn.examples():\n",
    "                conn.execute(\"\"\"\n",
    "                    INSERT INTO example (example, definitionId)\n",
    "                    VALUES (:example, :definitionId)\n",
    "                \"\"\", {\n",
    "                    'example': ex,\n",
    "                    'definitionId': defId\n",
    "                })"
   ]
  },
  {
   "cell_type": "code",
   "execution_count": null,
   "metadata": {},
   "outputs": [],
   "source": [
    "for syn in wn.synsets('.22-caliber'):\n",
    "    print(calculate_frequency(syn))\n",
    "    print(syn.definition())\n"
   ]
  },
  {
   "cell_type": "code",
   "execution_count": null,
   "metadata": {},
   "outputs": [],
   "source": []
  }
 ],
 "metadata": {
  "kernelspec": {
   "display_name": "lang",
   "language": "python",
   "name": "python3"
  },
  "language_info": {
   "codemirror_mode": {
    "name": "ipython",
    "version": 3
   },
   "file_extension": ".py",
   "mimetype": "text/x-python",
   "name": "python",
   "nbconvert_exporter": "python",
   "pygments_lexer": "ipython3",
   "version": "3.10.9"
  },
  "orig_nbformat": 4,
  "vscode": {
   "interpreter": {
    "hash": "1ffcc0b1eb508d10e9b0fa7a85a601f9242cb72bc016c758b80fe3dc92a9ec7c"
   }
  }
 },
 "nbformat": 4,
 "nbformat_minor": 2
}
