{
 "cells": [
  {
   "cell_type": "code",
   "execution_count": 3,
   "metadata": {},
   "outputs": [],
   "source": [
    "import nltk\n",
    "from nltk.corpus import wordnet as reader\n",
    "import nltk.corpus.reader.wordnet as wordnet\n",
    "import sqlite3 as sql"
   ]
  },
  {
   "cell_type": "code",
   "execution_count": 5,
   "metadata": {},
   "outputs": [],
   "source": [
    "DICTIONARY_PATH = 'data/output/dictionary.sqlite'"
   ]
  },
  {
   "cell_type": "code",
   "execution_count": 68,
   "metadata": {},
   "outputs": [],
   "source": [
    "def initDictionary():\n",
    "    import os\n",
    "\n",
    "    # os.remove(DICTIONARY_PATH)\n",
    "\n",
    "    with sql.connect(DICTIONARY_PATH) as conn:\n",
    "        conn.execute(\"\"\"\n",
    "            CREATE TABLE word (\n",
    "                word TEXT UNIQUE NOT NULL\n",
    "            )\n",
    "        \"\"\")\n",
    "        conn.execute(\"\"\"\n",
    "            CREATE TABLE definition (\n",
    "                wordId INTEGER,\n",
    "                definition TEXT,\n",
    "                pos TEXT,\n",
    "                FOREIGN KEY(wordId) REFERENCES word(ROWID)\n",
    "            )\n",
    "        \"\"\")\n",
    "        conn.execute(\"\"\"\n",
    "            CREATE TABLE example (\n",
    "                example TEXT,\n",
    "                definitionId INTEGER,\n",
    "                FOREIGN KEY(definitionId) REFERENCES definition(ROWID)\n",
    "            )\n",
    "        \"\"\")"
   ]
  },
  {
   "cell_type": "code",
   "execution_count": 26,
   "metadata": {},
   "outputs": [],
   "source": [
    "# need to do this because method suggestions don't work for `nltk.corpus.wordnet`\n",
    "wn = wordnet.WordNetCorpusReader(reader.root, reader._omw_reader)"
   ]
  },
  {
   "cell_type": "code",
   "execution_count": null,
   "metadata": {},
   "outputs": [],
   "source": [
    "for i, word in enumerate(list(wn.words())):\n",
    "    if i % 100 == 0:\n",
    "        print(f'{i}: {word}')\n",
    "    with sql.connect(DICTIONARY_PATH) as conn:\n",
    "        wordCursor = conn.execute(\"\"\"\n",
    "            INSERT INTO word (word) VALUES(:word)\n",
    "        \"\"\", {\n",
    "            'word': word,\n",
    "        })\n",
    "        wordId = wordCursor.lastrowid\n",
    "\n",
    "        for syn in wn.synsets(word):\n",
    "            defCursor = conn.execute(\"\"\"\n",
    "                INSERT INTO definition (wordId, definition, pos)\n",
    "                VALUES (:wordId, :definition, :pos)\n",
    "            \"\"\", {\n",
    "                'wordId': wordId,\n",
    "                'definition': syn.definition(),\n",
    "                'pos': syn.pos()\n",
    "            })\n",
    "            defId = defCursor.lastrowid\n",
    "\n",
    "            for ex in syn.examples():\n",
    "                if word not in ex:\n",
    "                    continue\n",
    "                conn.execute(\"\"\"\n",
    "                    INSERT INTO example (example, definitionId)\n",
    "                    VALUES (:example, :definitionId)\n",
    "                \"\"\", {\n",
    "                    'example': ex,\n",
    "                    'definitionId': defId\n",
    "                })\n"
   ]
  },
  {
   "cell_type": "code",
   "execution_count": null,
   "metadata": {},
   "outputs": [],
   "source": [
    "for i, syn in enumerate(wn.synsets('good')):\n",
    "    print(f'=============== {i} ===============')\n",
    "    print(syn)\n",
    "    print(syn.definition())\n",
    "    print(syn.examples())\n",
    "    print(syn.pos())\n",
    "    print(syn.lemmas())\n",
    "    # for lem in syn.lemmas():\n",
    "    #     def iprint(text):\n",
    "    #         print(f'\\t{text}')\n",
    "    #     iprint(lem)\n",
    "    #     iprint(f'antonyms  : {lem.antonyms()}')\n",
    "    #     iprint(f'causes    : {lem.causes()}')\n",
    "    #     iprint(f'der_forms: {lem.derivationally_related_forms()}')\n",
    "    #     iprint(f'in_usage_domains: {lem.in_usage_domains()}')\n",
    "    #     iprint(f'attributes: {lem.attributes()}')"
   ]
  }
 ],
 "metadata": {
  "kernelspec": {
   "display_name": "lang",
   "language": "python",
   "name": "python3"
  },
  "language_info": {
   "codemirror_mode": {
    "name": "ipython",
    "version": 3
   },
   "file_extension": ".py",
   "mimetype": "text/x-python",
   "name": "python",
   "nbconvert_exporter": "python",
   "pygments_lexer": "ipython3",
   "version": "3.10.9"
  },
  "orig_nbformat": 4,
  "vscode": {
   "interpreter": {
    "hash": "1ffcc0b1eb508d10e9b0fa7a85a601f9242cb72bc016c758b80fe3dc92a9ec7c"
   }
  }
 },
 "nbformat": 4,
 "nbformat_minor": 2
}
